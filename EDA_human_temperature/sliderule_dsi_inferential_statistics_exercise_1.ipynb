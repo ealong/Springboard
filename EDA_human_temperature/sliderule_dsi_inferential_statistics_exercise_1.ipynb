{
 "cells": [
  {
   "cell_type": "markdown",
   "metadata": {},
   "source": [
    "# What is the True Normal Human Body Temperature? \n",
    "\n",
    "#### Background\n",
    "\n",
    "The mean normal body temperature was held to be 37$^{\\circ}$C or 98.6$^{\\circ}$F for more than 120 years since it was first conceptualized and reported by Carl Wunderlich in a famous 1868 book. But, is this value statistically correct?"
   ]
  },
  {
   "cell_type": "markdown",
   "metadata": {},
   "source": [
    "<h3>Exercises</h3>\n",
    "\n",
    "<p>In this exercise, you will analyze a dataset of human body temperatures and employ the concepts of hypothesis testing, confidence intervals, and statistical significance.</p>\n",
    "\n",
    "<p>Answer the following questions <b>in this notebook below and submit to your Github account</b>.</p> \n",
    "\n",
    "<ol>\n",
    "<li>  Is the distribution of body temperatures normal? \n",
    "    <ul>\n",
    "    <li> Although this is not a requirement for the Central Limit Theorem to hold (read the introduction on Wikipedia's page about the CLT carefully: https://en.wikipedia.org/wiki/Central_limit_theorem), it gives us some peace of mind that the population may also be normally distributed if we assume that this sample is representative of the population.\n",
    "    <li> Think about the way you're going to check for the normality of the distribution. Graphical methods are usually used first, but there are also other ways: https://en.wikipedia.org/wiki/Normality_test\n",
    "    </ul>\n",
    "<li>  Is the sample size large? Are the observations independent?\n",
    "    <ul>\n",
    "    <li> Remember that this is a condition for the Central Limit Theorem, and hence the statistical tests we are using, to apply.\n",
    "    </ul>\n",
    "<li>  Is the true population mean really 98.6 degrees F?\n",
    "    <ul>\n",
    "    <li> First, try a bootstrap hypothesis test.\n",
    "    <li> Now, let's try frequentist statistical testing. Would you use a one-sample or two-sample test? Why?\n",
    "    <li> In this situation, is it appropriate to use the $t$ or $z$ statistic? \n",
    "    <li> Now try using the other test. How is the result be different? Why?\n",
    "    </ul>\n",
    "<li>  Draw a small sample of size 10 from the data and repeat both frequentist tests. \n",
    "    <ul>\n",
    "    <li> Which one is the correct one to use? \n",
    "    <li> What do you notice? What does this tell you about the difference in application of the $t$ and $z$ statistic?\n",
    "    </ul>\n",
    "<li>  At what temperature should we consider someone's temperature to be \"abnormal\"?\n",
    "    <ul>\n",
    "    <li> As in the previous example, try calculating everything using the boostrap approach, as well as the frequentist approach.\n",
    "    <li> Start by computing the margin of error and confidence interval. When calculating the confidence interval, keep in mind that you should use the appropriate formula for one draw, and not N draws.\n",
    "    </ul>\n",
    "<li>  Is there a significant difference between males and females in normal temperature?\n",
    "    <ul>\n",
    "    <li> What testing approach did you use and why?\n",
    "    <li> Write a story with your conclusion in the context of the original problem.\n",
    "    </ul>\n",
    "</ol>\n",
    "\n",
    "You can include written notes in notebook cells using Markdown: \n",
    "   - In the control panel at the top, choose Cell > Cell Type > Markdown\n",
    "   - Markdown syntax: http://nestacms.com/docs/creating-content/markdown-cheat-sheet\n",
    "\n",
    "#### Resources\n",
    "\n",
    "+ Information and data sources: http://www.amstat.org/publications/jse/datasets/normtemp.txt, http://www.amstat.org/publications/jse/jse_data_archive.htm\n",
    "+ Markdown syntax: http://nestacms.com/docs/creating-content/markdown-cheat-sheet\n",
    "\n",
    "****"
   ]
  },
  {
   "cell_type": "code",
   "execution_count": 1,
   "metadata": {},
   "outputs": [],
   "source": [
    "import pandas as pd\n",
    "import matplotlib.pyplot as plt\n",
    "import numpy as np\n",
    "from scipy import stats\n",
    "\n",
    "df = pd.read_csv('data/human_body_temperature.csv')"
   ]
  },
  {
   "cell_type": "markdown",
   "metadata": {
    "collapsed": true
   },
   "source": [
    "Q1: Is the distribution of body temperatures normal?"
   ]
  },
  {
   "cell_type": "code",
   "execution_count": 2,
   "metadata": {},
   "outputs": [
    {
     "name": "stdout",
     "output_type": "stream",
     "text": [
      "   temperature gender  heart_rate\n",
      "0         99.3      F        68.0\n",
      "1         98.4      F        81.0\n",
      "2         97.8      M        73.0\n",
      "3         99.2      F        66.0\n",
      "4         98.0      F        73.0\n",
      "<class 'pandas.core.frame.DataFrame'>\n",
      "RangeIndex: 130 entries, 0 to 129\n",
      "Data columns (total 3 columns):\n",
      "temperature    130 non-null float64\n",
      "gender         130 non-null object\n",
      "heart_rate     130 non-null float64\n",
      "dtypes: float64(2), object(1)\n",
      "memory usage: 3.1+ KB\n",
      "None\n"
     ]
    }
   ],
   "source": [
    "print(df.head())\n",
    "print(df.info()) #Sample size: 130"
   ]
  },
  {
   "cell_type": "code",
   "execution_count": 3,
   "metadata": {},
   "outputs": [
    {
     "data": {
      "image/png": "[encoded data removed]",
      "text/plain": [
       "<Figure size 432x288 with 1 Axes>"
      ]
     },
     "metadata": {
      "needs_background": "light"
     },
     "output_type": "display_data"
    }
   ],
   "source": [
    "_ = plt.hist('temperature', data=df, bins=15)\n",
    "plt.show() #A: Sample data looks vaguely normal... (right-skewed)"
   ]
  },
  {
   "cell_type": "code",
   "execution_count": 58,
   "metadata": {},
   "outputs": [
    {
     "name": "stdout",
     "output_type": "stream",
     "text": [
      "3.4924927267748074\n",
      "2.6688711006173778\n"
     ]
    },
    {
     "data": {
      "text/plain": [
       "'\\nThe \"back-of-the-envelope\" normality test indicates that normality is questionable with a value that is 3.5sigma\\naway from the mean and n = 130. However, because this is a biological characteristic, the distribution in the \\ngeneral population is likely very much normal, and thus the sample distribution is likely normal with a few outliers.\\n\\n'"
      ]
     },
     "execution_count": 58,
     "metadata": {},
     "output_type": "execute_result"
    }
   ],
   "source": [
    "#Normality test: Calculate t-statistics of max and min\n",
    "temps = df['temperature'].values\n",
    "\n",
    "temps_max = max(temps)\n",
    "temps_min = min(temps)\n",
    "temps_mean = np.mean(temps)\n",
    "temps_std = np.std(temps)\n",
    "n_temps = len(temps)\n",
    "\n",
    "t_stat_max = (temps_max - temps_mean) / temps_std\n",
    "t_stat_min = (temps_mean - temps_min) / temps_std\n",
    "\n",
    "print(t_stat_max)\n",
    "print(t_stat_min)\n",
    "#print(n_temps)\n",
    "\n",
    "#Min value is only 2.5sigma away from mean, but max is 3.5sigma away.\n",
    "\n",
    "'''\n",
    "The \"back-of-the-envelope\" normality test indicates that normality is questionable with a value that is 3.5sigma\n",
    "away from the mean and n = 130. However, because this is a biological characteristic, the distribution in the \n",
    "general population is likely very much normal, and thus the sample distribution is likely normal with a few outliers.\n",
    "\n",
    "'''"
   ]
  },
  {
   "cell_type": "code",
   "execution_count": 7,
   "metadata": {},
   "outputs": [
    {
     "name": "stdout",
     "output_type": "stream",
     "text": [
      "0.2587479863488254\n"
     ]
    }
   ],
   "source": [
    "#Alternative normality test:\n",
    "\n",
    "_, p = stats.normaltest(temps)\n",
    "print(p) #p-value of 0.26 indicates high degree of normality, confirming analysis above^."
   ]
  },
  {
   "cell_type": "markdown",
   "metadata": {},
   "source": [
    "Q2: Is the sample size large? Are the observations independent?\n",
    "\n",
    "A: Sample size (n) is >30, so sample size is sufficiently large to apply Central Limit Theorem. The sample size is far less than 10% of the general population, so independence is a valid assumption."
   ]
  },
  {
   "cell_type": "markdown",
   "metadata": {},
   "source": [
    "Q3: Is the true population mean really 98.6 degrees F?"
   ]
  },
  {
   "cell_type": "code",
   "execution_count": 49,
   "metadata": {},
   "outputs": [
    {
     "name": "stdout",
     "output_type": "stream",
     "text": [
      "98.60000000000001\n"
     ]
    },
    {
     "data": {
      "image/png": "[encoded data removed]",
      "text/plain": [
       "<Figure size 432x288 with 1 Axes>"
      ]
     },
     "metadata": {
      "needs_background": "light"
     },
     "output_type": "display_data"
    }
   ],
   "source": [
    "#BOOTSTRAP HYPOTHESIS TEST\n",
    "\n",
    "#Null hypothesis: mean temp == 98.6\n",
    "#Alternative hypothesis: mean temp != 98.6\n",
    "#Significance level: 5%\n",
    "\n",
    "#print(temps_mean) #Sample mean: 98.25\n",
    "#print(temps_std) #Sample std: 0.73\n",
    "\n",
    "temps_shift = temps + (98.6 - temps_mean) #Create new array of temp data with mean of 98.6\n",
    "print(np.mean(temps_shift))\n",
    "\n",
    "#t_stat_mean = (98.6 - temps_mean) / temps_std\n",
    "#print (t_stat_mean) #0.48sigma from mean\n",
    "\n",
    "sample_means = []\n",
    "for i in range(1000):\n",
    "    sample = np.random.choice(temps_shift, size=len(temps_shift), replace=True)\n",
    "    sample_means.append(np.mean(sample))\n",
    "    \n",
    "#print(sample_means)\n",
    "    \n",
    "_ = plt.hist(sample_means, bins=20)\n",
    "plt.show()"
   ]
  },
  {
   "cell_type": "code",
   "execution_count": 50,
   "metadata": {},
   "outputs": [
    {
     "name": "stdout",
     "output_type": "stream",
     "text": [
      "0\n"
     ]
    }
   ],
   "source": [
    "#Calculate probability (p-value) of obtaining mean of 98.25 from random sampling\n",
    "deviation = 98.6 - temps_mean\n",
    "p_value = (len(np.where(sample_means < (98.6 - deviation))) + len(np.where(sample_means > (98.6 + deviation)))) / 1000\n",
    "print(p_value) #p = 0! => Null hypothesis NOT supported by sample data!"
   ]
  },
  {
   "cell_type": "code",
   "execution_count": 41,
   "metadata": {},
   "outputs": [
    {
     "name": "stdout",
     "output_type": "stream",
     "text": [
      "-5.4759252020785585\n"
     ]
    }
   ],
   "source": [
    "#FREQUENTIST STATISTICAL TEST - ONE-SAMPLE TEST\n",
    "'''\n",
    "Here we would use a ONE-SAMPLE test, because we are investigating whether a single sample \n",
    "could have been drawn from a larger population.\n",
    "\n",
    "The sample size is greater than 30, but we don't know the std dev of the population, \n",
    "so the t-statistic must be used here.\n",
    "'''\n",
    "\n",
    "t_stat = (temps_mean - 98.6) / (temps_std / np.sqrt(len(temps)))\n",
    "print(t_stat) #t = -5.476 => p-value ~ 0 (<0.00001) [Null hypothesis rejected]"
   ]
  },
  {
   "cell_type": "code",
   "execution_count": 40,
   "metadata": {},
   "outputs": [
    {
     "name": "stdout",
     "output_type": "stream",
     "text": [
      "-3.9993845680402167\n"
     ]
    }
   ],
   "source": [
    "#FREQUENTIST STATISTICAL TEST - TWO-SAMPLE TEST\n",
    "'''\n",
    "A TWO-SAMPLE TEST requires 2 samples for comparison, thus it is not appropriate to use here.\n",
    "However, if we were to use the general population as the second sample, we would find that the \n",
    "number of data points in the 2nd population (n_genpop) would be much greater than the number of\n",
    "data points in our current sample (n_temps). In other words, n_genpop >> n_temps.\n",
    "\n",
    "In the equation for t, t is inversely proportial to sp2 (combined estimate of population variance).\n",
    "For n2 >> n1, sp2 simplifies to s2 (std. dev of 2nd pop., genpop), which under the assumption of normality is \n",
    "equal to 1. Thus t simplifies to x1 - x2 / sqrt(1/n1) [where 1/n2 ~ 0], which is ALMOST the same \n",
    "as the one-sample equation.\n",
    "'''\n",
    "\n",
    "t_stat2 = (temps_mean - 98.6) / (1 / np.sqrt(len(temps)))\n",
    "print(t_stat2) #t = -4 => p-value ~ 0 (0.0001) [SAME RESULT - Null hypothesis rejected]"
   ]
  },
  {
   "cell_type": "markdown",
   "metadata": {},
   "source": [
    "Q4: Draw a small sample of size 10 from the data and repeat both frequentist tests."
   ]
  },
  {
   "cell_type": "code",
   "execution_count": 45,
   "metadata": {},
   "outputs": [
    {
     "name": "stdout",
     "output_type": "stream",
     "text": [
      "(97.85, 0.829759001156358)\n"
     ]
    }
   ],
   "source": [
    "sample_10 = np.random.choice(temps, size=10)\n",
    "\n",
    "sample_10_mean = np.mean(sample_10)\n",
    "sample_10_std = np.std(sample_10)\n",
    "print(sample_10_mean, sample_10_std)"
   ]
  },
  {
   "cell_type": "code",
   "execution_count": 46,
   "metadata": {},
   "outputs": [
    {
     "name": "stdout",
     "output_type": "stream",
     "text": [
      "-2.858309752375154\n"
     ]
    }
   ],
   "source": [
    "#ONE-SAMPLE TEST\n",
    "\n",
    "'''\n",
    "Use the t-statistic because both n < 30 and population std dev is unknown.\n",
    "'''\n",
    "\n",
    "t_stat_10 = (sample_10_mean - 98.6) / (sample_10_std / np.sqrt(len(sample_10)))\n",
    "print(t_stat_10) #t = -2.86 => p-value ~ 0 [Null hypothesis rejected]"
   ]
  },
  {
   "cell_type": "code",
   "execution_count": 47,
   "metadata": {},
   "outputs": [
    {
     "name": "stdout",
     "output_type": "stream",
     "text": [
      "-2.3717082451262845\n"
     ]
    }
   ],
   "source": [
    "#TWO-SAMPLE TEST\n",
    "\n",
    "t_stat_10_2 = (sample_10_mean - 98.6) / (1 / np.sqrt(len(sample_10)))\n",
    "print(t_stat_10_2) #t = -2.37 => p-value ~ 0 [Null hypothesis rejected]"
   ]
  },
  {
   "cell_type": "markdown",
   "metadata": {},
   "source": [
    "Here, the ONE-SAMPLE test is, again, the correct test to use, for the same reasons as for the original sample.\n",
    "\n",
    "The t-statistics for the sample size 10 sample are closer to 0 than the t-statistics of the original sample,\n",
    "which indicates a higher probability of the data coming from the general population distribution (p-value). Assuming these values are indeed a subset of the general population, it confirms that t-statistics are more accurate for \n",
    "smaller n values (<30). If the population std dev. was known, the z-statistic would likely yield a higher p-value\n",
    "for the original dataset as well."
   ]
  },
  {
   "cell_type": "markdown",
   "metadata": {},
   "source": [
    "Q5: At what temperature should we consider someone's temperature to be \"abnormal\"?"
   ]
  },
  {
   "cell_type": "code",
   "execution_count": 55,
   "metadata": {},
   "outputs": [
    {
     "name": "stdout",
     "output_type": "stream",
     "text": [
      "0.12555096480257902\n"
     ]
    }
   ],
   "source": [
    "#Consider \"abnormal\" to be +- 2sigma from the mean\n",
    "#(for a normal distribution, this is 95% of the values centered on the mean)\n",
    "#Margin of error for 95% Confidence interval: CV * SE = CV * (S / sqrt(N))\n",
    "#CV for 95% confidence is 1.96\n",
    "\n",
    "margin_error = 1.96 * temps_std / np.sqrt(n_temps) #0.126\n",
    "print(margin_error)\n",
    "\n",
    "#True population mean is within 0.126 of 98.25 (sample mean) with confidence of 95%."
   ]
  },
  {
   "cell_type": "code",
   "execution_count": 57,
   "metadata": {},
   "outputs": [
    {
     "name": "stdout",
     "output_type": "stream",
     "text": [
      "0.06405661469519337\n",
      "0.730357778905038\n"
     ]
    }
   ],
   "source": [
    "#Using sample standard deviation\n",
    "std_error = temps_std / np.sqrt(n_temps)\n",
    "print(std_error)\n",
    "print(temps_std)"
   ]
  },
  {
   "cell_type": "code",
   "execution_count": 61,
   "metadata": {},
   "outputs": [
    {
     "data": {
      "image/png": "[encoded data removed]",
      "text/plain": [
       "<Figure size 432x288 with 1 Axes>"
      ]
     },
     "metadata": {
      "needs_background": "light"
     },
     "output_type": "display_data"
    }
   ],
   "source": [
    "#BOOTSTRAP APPROACH FOR STD DEV:\n",
    "\n",
    "sample_stddevs = []\n",
    "for i in range(1000):\n",
    "    sample = np.random.choice(temps, size=n_temps, replace=True)\n",
    "    sample_stddevs.append(np.std(sample))\n",
    "    \n",
    "_ = plt.hist(sample_stddevs, bins=20)\n",
    "plt.show()"
   ]
  },
  {
   "cell_type": "code",
   "execution_count": 62,
   "metadata": {},
   "outputs": [
    {
     "name": "stdout",
     "output_type": "stream",
     "text": [
      "(0.6308834183477569, 0.8258941709038269)\n"
     ]
    }
   ],
   "source": [
    "#Find 95% confidence interval\n",
    "bottom = np.percentile(sample_stddevs, 2.5)\n",
    "top = np.percentile(sample_stddevs, 97.5)\n",
    "\n",
    "print(bottom, top) #=> Stddev of population is between 0.63 and 0.83, with 95% confidence"
   ]
  },
  {
   "cell_type": "code",
   "execution_count": 66,
   "metadata": {},
   "outputs": [
    {
     "name": "stdout",
     "output_type": "stream",
     "text": [
      "(100.026570075841, 99.63654857072885, 96.4718914626205, 96.86191296773265)\n"
     ]
    }
   ],
   "source": [
    "#Combining above, estimation of temperatures 2sigma away from true population mean is (95% confidence):\n",
    "\n",
    "upper_2sigma_upper_bound = (temps_mean + margin_error) + (2 * top)\n",
    "upper_2sigma_lower_bound = (temps_mean + margin_error) + (2 * bottom)\n",
    "\n",
    "lower_2sigma_upper_bound = (temps_mean - margin_error) - (2 * top)\n",
    "lower_2sigma_lower_bound = (temps_mean - margin_error) - (2 * bottom)\n",
    "\n",
    "print(upper_2sigma_upper_bound, upper_2sigma_lower_bound, lower_2sigma_upper_bound, lower_2sigma_lower_bound)\n",
    "#99.6F - 100.0F is lower bound for \"abnormally\" high, 96.5F - 96.9F is upper bound for \"abnormally\" low"
   ]
  },
  {
   "cell_type": "markdown",
   "metadata": {},
   "source": [
    "Q6: Is there a significant difference between males and females in normal temperature?"
   ]
  },
  {
   "cell_type": "code",
   "execution_count": 70,
   "metadata": {},
   "outputs": [
    {
     "name": "stdout",
     "output_type": "stream",
     "text": [
      "(98.10461538461537, 0.6933598841828699, 65)\n",
      "(98.39384615384614, 0.7377464486428966, 65)\n"
     ]
    }
   ],
   "source": [
    "#Split df into two dfs\n",
    "df_male = df[df.gender == 'M']\n",
    "df_female = df[df.gender == 'F']\n",
    "\n",
    "male_temps = df_male['temperature'].values\n",
    "female_temps = df_female['temperature'].values\n",
    "\n",
    "male_temps_mean = np.mean(male_temps)\n",
    "male_temps_stddev = np.std(male_temps)\n",
    "n_male_temps = len(male_temps)\n",
    "print(male_temps_mean, male_temps_stddev, n_male_temps)\n",
    "\n",
    "female_temps_mean = np.mean(female_temps)\n",
    "female_temps_stddev = np.std(female_temps)\n",
    "n_female_temps = len(female_temps)\n",
    "print(female_temps_mean, female_temps_stddev, n_female_temps)"
   ]
  },
  {
   "cell_type": "code",
   "execution_count": 73,
   "metadata": {},
   "outputs": [
    {
     "name": "stdout",
     "output_type": "stream",
     "text": [
      "(0.2892307692307696, 0.12557668521231213, 2.3032202891943516)\n"
     ]
    }
   ],
   "source": [
    "#To perform significance test, use two-sample t-test\n",
    "#Null hypothesis: Male mean temp = Female mean temp\n",
    "temp_diff = female_temps_mean - male_temps_mean\n",
    "combined_variance = np.sqrt(((female_temps_stddev ** 2) / n_female_temps) + ((male_temps_stddev ** 2) / n_male_temps))\n",
    "t = temp_diff / combined_variance\n",
    "print(temp_diff, combined_variance, t) #t = 2.3 => From t-table lookup, significant difference at level of ~0.03"
   ]
  },
  {
   "cell_type": "code",
   "execution_count": 75,
   "metadata": {},
   "outputs": [
    {
     "name": "stdout",
     "output_type": "stream",
     "text": [
      "(0.5353610722469014, 0.04310046621463784)\n"
     ]
    }
   ],
   "source": [
    "#95% confidence interval (CV = 1.96):\n",
    "interval2_upper = temp_diff + (1.96 * combined_variance)\n",
    "interval2_lower = temp_diff - (1.96 * combined_variance)\n",
    "print(interval2_upper, interval2_lower)\n",
    "#value of 0 is not included in confidence interval, so can say with 95% confidence, \n",
    "#that there is significant difference between male and female temps at level of about 0.04"
   ]
  },
  {
   "cell_type": "markdown",
   "metadata": {},
   "source": [
    "## CONCLUSION\n",
    "\n",
    "From this sample data, it would seem that the accepted average body temperature of 98.6F is NOT correct. We can say with 95% confidence, that the true population mean is within 0.126F of 98.25F, and that for the general population, a body temperature of between 99.6F and 100.0F (on the high side) and 96.5F and 96.9F (on the low side) should be considered \"abnormal\". We also find that there is a significant difference between the average male and female body temperature of between 0.04F and 0.54F."
   ]
  },
  {
   "cell_type": "code",
   "execution_count": null,
   "metadata": {},
   "outputs": [],
   "source": []
  }
 ],
 "metadata": {
  "kernelspec": {
   "display_name": "Python 2",
   "language": "python",
   "name": "python2"
  },
  "language_info": {
   "codemirror_mode": {
    "name": "ipython",
    "version": 2
   },
   "file_extension": ".py",
   "mimetype": "text/x-python",
   "name": "python",
   "nbconvert_exporter": "python",
   "pygments_lexer": "ipython2",
   "version": "2.7.15"
  }
 },
 "nbformat": 4,
 "nbformat_minor": 1
}
